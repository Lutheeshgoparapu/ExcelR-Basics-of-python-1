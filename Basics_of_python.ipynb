{
  "nbformat": 4,
  "nbformat_minor": 0,
  "metadata": {
    "colab": {
      "provenance": []
    },
    "kernelspec": {
      "name": "python3",
      "display_name": "Python 3"
    },
    "language_info": {
      "name": "python"
    }
  },
  "cells": [
    {
      "cell_type": "code",
      "execution_count": 2,
      "metadata": {
        "colab": {
          "base_uri": "https://localhost:8080/"
        },
        "id": "uRwWupFmbdzb",
        "outputId": "7fd1e7bf-59a4-437d-d422-11004df5bd6e"
      },
      "outputs": [
        {
          "output_type": "stream",
          "name": "stdout",
          "text": [
            "Enter a number: 21\n",
            "21 is a prime number\n"
          ]
        }
      ],
      "source": [
        "## PrimeNumbers\n",
        "\n",
        "def is_prime(num):\n",
        "  if num<=1:\n",
        "    return false\n",
        "  for i in range(2,int(num**0.5)+1):\n",
        "    if num%i==0:\n",
        "      return False\n",
        "    else:\n",
        "      return True\n",
        "\n",
        "num=int(input(\"Enter a number: \"))\n",
        "if is_prime(num):\n",
        "  print(f\"{num} is a prime number\")\n",
        "else:\n",
        "  print(f\"{num} is not a prime number\")\n",
        "\n",
        "\n"
      ]
    },
    {
      "cell_type": "code",
      "source": [
        "## Product of Random Numbers\n",
        "\n",
        "import random\n",
        "num1=random.randint(1,10)\n",
        "num2=random.randint(1,10)\n",
        "print(f\"what is {num1}*{num2}? \")\n",
        "user_answer=int(input(\"Your Answer: \"))\n",
        "correct_answer = num1 * num2\n",
        "if user_answer ==correct_answer:\n",
        "  print(\"Your answer is Correct!\")\n",
        "else:\n",
        "  print(f\"Incorrect,the correct answer is {correct_answer} \")\n"
      ],
      "metadata": {
        "colab": {
          "base_uri": "https://localhost:8080/"
        },
        "id": "bDP2lU02cmlo",
        "outputId": "76c5d019-2fe5-4984-d7ea-5d00cf4d7151"
      },
      "execution_count": 7,
      "outputs": [
        {
          "output_type": "stream",
          "name": "stdout",
          "text": [
            "what is 3*2? \n",
            "Your Answer: 4\n",
            "Incorrect,the correct answer is 6 \n"
          ]
        }
      ]
    },
    {
      "cell_type": "code",
      "source": [
        "##Squares of Even/Odd Numbers\n",
        "for num in range(100, 201):\n",
        "    if num % 2 != 1:\n",
        "        print(f\"{num}^2 = {num ** 2}\")"
      ],
      "metadata": {
        "colab": {
          "base_uri": "https://localhost:8080/"
        },
        "id": "zrzQum2Bf7M3",
        "outputId": "f1d39615-feaa-424d-9a02-3161b50af641"
      },
      "execution_count": 17,
      "outputs": [
        {
          "output_type": "stream",
          "name": "stdout",
          "text": [
            "100^2 = 10000\n",
            "102^2 = 10404\n",
            "104^2 = 10816\n",
            "106^2 = 11236\n",
            "108^2 = 11664\n",
            "110^2 = 12100\n",
            "112^2 = 12544\n",
            "114^2 = 12996\n",
            "116^2 = 13456\n",
            "118^2 = 13924\n",
            "120^2 = 14400\n",
            "122^2 = 14884\n",
            "124^2 = 15376\n",
            "126^2 = 15876\n",
            "128^2 = 16384\n",
            "130^2 = 16900\n",
            "132^2 = 17424\n",
            "134^2 = 17956\n",
            "136^2 = 18496\n",
            "138^2 = 19044\n",
            "140^2 = 19600\n",
            "142^2 = 20164\n",
            "144^2 = 20736\n",
            "146^2 = 21316\n",
            "148^2 = 21904\n",
            "150^2 = 22500\n",
            "152^2 = 23104\n",
            "154^2 = 23716\n",
            "156^2 = 24336\n",
            "158^2 = 24964\n",
            "160^2 = 25600\n",
            "162^2 = 26244\n",
            "164^2 = 26896\n",
            "166^2 = 27556\n",
            "168^2 = 28224\n",
            "170^2 = 28900\n",
            "172^2 = 29584\n",
            "174^2 = 30276\n",
            "176^2 = 30976\n",
            "178^2 = 31684\n",
            "180^2 = 32400\n",
            "182^2 = 33124\n",
            "184^2 = 33856\n",
            "186^2 = 34596\n",
            "188^2 = 35344\n",
            "190^2 = 36100\n",
            "192^2 = 36864\n",
            "194^2 = 37636\n",
            "196^2 = 38416\n",
            "198^2 = 39204\n",
            "200^2 = 40000\n"
          ]
        }
      ]
    },
    {
      "cell_type": "code",
      "source": [
        "## Word Counter\n",
        "\n",
        "def count_words(input_text):\n",
        "  words=input_text.split()\n",
        "  word_count={}\n",
        "  for word in words:\n",
        "    if word in word_count:\n",
        "      word_count[word]+=1\n",
        "    else:\n",
        "      word_count[word]=1\n",
        "  for word,count in word_count.items():\n",
        "    print(f\"'{word}':{count}\")\n",
        "input_text = \" My Name is Lutheesh\"\n",
        "count_words(input_text)"
      ],
      "metadata": {
        "colab": {
          "base_uri": "https://localhost:8080/"
        },
        "id": "CG6docqsdlHa",
        "outputId": "bc4aed94-fa02-4222-e3e1-a482bf5e6d60"
      },
      "execution_count": 10,
      "outputs": [
        {
          "output_type": "stream",
          "name": "stdout",
          "text": [
            "'My':1\n",
            "'Name':1\n",
            "'is':1\n",
            "'Lutheesh':1\n"
          ]
        }
      ]
    },
    {
      "cell_type": "code",
      "source": [
        "## Check for Palindrome\n",
        "import string\n",
        "def is_palindrome(text):\n",
        "  text = text.lower()\n",
        "  cleaned = ''.join(char for char in text if char.isalnum())\n",
        "  return cleaned==cleaned[::-1]\n",
        "print(is_palindrome(\"racecar\"))\n",
        "print(is_palindrome(\"hello\"))\n"
      ],
      "metadata": {
        "colab": {
          "base_uri": "https://localhost:8080/"
        },
        "id": "cWd0Cw36eyWO",
        "outputId": "bc9400a8-3adf-4175-c341-8a8e60fb4510"
      },
      "execution_count": 15,
      "outputs": [
        {
          "output_type": "stream",
          "name": "stdout",
          "text": [
            "True\n",
            "False\n"
          ]
        }
      ]
    },
    {
      "cell_type": "code",
      "source": [],
      "metadata": {
        "id": "HQtzD7H3fBG5"
      },
      "execution_count": null,
      "outputs": []
    }
  ]
}